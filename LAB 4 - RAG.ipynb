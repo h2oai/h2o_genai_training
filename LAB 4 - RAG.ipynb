{
 "cells": [
  {
   "cell_type": "markdown",
   "id": "963c3ccd",
   "metadata": {},
   "source": [
    "<img src=\"static/event-image-small.jpg\" alt=\"drawing\" width=\"800\"/> "
   ]
  },
  {
   "cell_type": "markdown",
   "id": "adbf511d-14d2-4b64-893c-de6234aff00e",
   "metadata": {},
   "source": [
    "# **LAB 4: RETRIEVAL-AUGMENTED GENERATION**\n",
    "\n",
    "In this notebook, we will look at pairing a powerful LLM with an advanced\n",
    "Retrieval-Augmented Generation (RAG) System. The primary and most immediate benefit\n",
    "from doing so is to \"ground\" large language models and minize the risk of any\n",
    "hallunications.\n",
    "\n",
    "By populating the context of our LLM with specific text data identified as relevant\n",
    "to the prompt, the model is more capable of being able to respond. \n",
    "\n",
    "Most of this notebook will leverage h2ogpte, which is a commercial product \n",
    "available from H2O. However, open source h2ogpt can also perform RAG\n",
    "through it's integration with LangChain, FAISS, ChromaDB and other tools. \n",
    "\n",
    "Let's begin!\n",
    "\n"
   ]
  },
  {
   "cell_type": "markdown",
   "id": "31a97725-7a33-4caa-8fd3-5f55de7503e7",
   "metadata": {},
   "source": [
    "# Import Required Dependencies "
   ]
  },
  {
   "cell_type": "code",
   "execution_count": 1,
   "id": "8d37744e",
   "metadata": {},
   "outputs": [],
   "source": [
    "from h2ogpte import H2OGPTE\n",
    "import os\n",
    "import time"
   ]
  },
  {
   "cell_type": "markdown",
   "id": "b3342ba0",
   "metadata": {},
   "source": [
    "# Accesing Enterprise h2oGPT\n",
    "\n",
    "Enterprise h2oGPTe is an advanced system that can intelligently process text, \n",
    "audio and image (with text) data. It's built using years of experience with\n",
    "applying AI to Documents, which has now evolved into a system capable of \n",
    "\n",
    "As a worked out exercise, we will show how someone with a LinkedIn profile \n",
    "can download their profile as a PDF and upload it into h2ogpte.\n",
    "\n",
    "The following screenshots show how to do so in the UI, but we will provide\n",
    "programmatic examples as well."
   ]
  },
  {
   "cell_type": "markdown",
   "id": "de437d60",
   "metadata": {},
   "source": [
    "## Step 1 - Download your profile as a PDF\n",
    "\n",
    "---\n",
    "<img src=\"static/linkedin-download.png\" alt=\"drawing\" width=\"600\"/> \n",
    "---"
   ]
  },
  {
   "cell_type": "markdown",
   "id": "e156c859",
   "metadata": {},
   "source": [
    "## Step 2 - Create a new collection\n",
    "\n",
    "\n",
    "\n",
    "---\n",
    "<img src=\"static/new-collection1.png\" alt=\"drawing\" width=\"600\"/> \n",
    "---"
   ]
  },
  {
   "cell_type": "markdown",
   "id": "0a8325aa",
   "metadata": {},
   "source": [
    "## Step 3 - Name it `MyProfile`\n",
    "\n",
    "\n",
    "\n",
    "---\n",
    "<img src=\"static/new-collection2.png\" alt=\"drawing\" width=\"600\"/> \n",
    "---"
   ]
  },
  {
   "cell_type": "markdown",
   "id": "b90e4f42",
   "metadata": {},
   "source": [
    "## Step 4 - Upload your PDF\n",
    "\n",
    "\n",
    "\n",
    "---\n",
    "<img src=\"static/new-collection3.png\" alt=\"drawing\" width=\"400\" height=\"600\"> \n",
    "---"
   ]
  },
  {
   "cell_type": "markdown",
   "id": "0a0350f6",
   "metadata": {},
   "source": [
    "\n",
    "At this point, h2ogpte will begin indexing, chunking and storing your text data\n",
    "into the vector database. \n",
    "\n",
    "Once complete, you will be able to begin conversing with it and other possible\n",
    "interactions.\n",
    "\n",
    "In the future, you can use the following code example to upload your data as well.\n",
    "\n",
    "# Programmatic Upload\n",
    "\n",
    "```python\n",
    "    collection_id = h2ogpte.create_collection(name=\"MyProfile\", description = \"My Experiences\")\n",
    "\n",
    "    f = open(\"Profile.pdf\",'rb')\n",
    "    uf = h2ogpte.upload(\"Profile.pdf\",f)\n",
    "    h2ogpte.ingest_uploads(collection_id, [uf])\n",
    "```"
   ]
  },
  {
   "cell_type": "markdown",
   "id": "5c452703",
   "metadata": {},
   "source": [
    "# Step 5 - Visit the UI and Generate an API Key for the Python API\n",
    "\n",
    "Enterprise h2oGPT comes with a Python client that enables you to leverage the\n",
    "power of an advanced RAG system in virtually any setting. Any application can \n",
    "now be enhanced with AI. "
   ]
  },
  {
   "cell_type": "code",
   "execution_count": 2,
   "id": "2ba47dec",
   "metadata": {},
   "outputs": [],
   "source": [
    "# Authenticate\n",
    "rag_url = 'https://genai-training.h2o.ai'\n",
    "rag_key = 'my_key' # visit the UI for your API Key\n",
    "\n",
    "h2ogpte = H2OGPTE(address=rag_url, api_key=rag_key)"
   ]
  },
  {
   "cell_type": "code",
   "execution_count": 3,
   "id": "ded7b02f",
   "metadata": {},
   "outputs": [
    {
     "data": {
      "text/plain": [
       "[CollectionInfo(id='4ef8da2a-ac77-4d5b-b1e0-57c4fd9ee9b0', name='MyProfile', description='', document_count=1, document_size=58377, updated_at=datetime.datetime(2023, 11, 1, 23, 0, 10, 714633, tzinfo=datetime.timezone.utc))]"
      ]
     },
     "execution_count": 3,
     "metadata": {},
     "output_type": "execute_result"
    }
   ],
   "source": [
    "# List collections\n",
    "h2ogpte.list_recent_collections(0, 5)"
   ]
  },
  {
   "cell_type": "code",
   "execution_count": 4,
   "id": "3e1fbdf6",
   "metadata": {},
   "outputs": [
    {
     "data": {
      "text/plain": [
       "'4ef8da2a-ac77-4d5b-b1e0-57c4fd9ee9b0'"
      ]
     },
     "execution_count": 4,
     "metadata": {},
     "output_type": "execute_result"
    }
   ],
   "source": [
    "# Establish Collection Name\n",
    "COLLECTION_NAME = 'MyProfile'\n",
    "collections = h2ogpte.list_recent_collections(0, 1)\n",
    "\n",
    "# Identify collection id\n",
    "collection_id = [i.id for i in collections if i.name == COLLECTION_NAME][0]\n",
    "collection_id"
   ]
  },
  {
   "cell_type": "markdown",
   "id": "b373d8a1",
   "metadata": {},
   "source": [
    "# What is now possible?\n",
    "\n",
    "Behind the scenes, h2ogpte is powered by several LLMs and other models. This\n",
    "enables a wide array of possible actions and fascinating ways of using\n",
    "artificial intelligence for your business or application.\n",
    "\n",
    "Let's see how well it can understand us and how it can help with career \n",
    "development."
   ]
  },
  {
   "cell_type": "code",
   "execution_count": 5,
   "id": "acb5ac2b",
   "metadata": {},
   "outputs": [],
   "source": [
    "queries = [\n",
    "            \"Whose linkedin profile are we looking at ?\",\n",
    "            \"Where does this person work now ?\",\n",
    "            \"How many years of experience does this user have across various different roles ? Break it down for me, with most recent employment first\",\n",
    "            \"List the names of all the companies this person worked for ?\",\n",
    "            \"Which company or companies did this person worked in more than 1 role ?\",\n",
    "            \"What could be some career paths for this candidate in the next few years ?\",\n",
    "            \"Is this person good at working at a startup or big companies ?\",\n",
    "            \"What top 5 technical skills this person has, that would make an employer to hire immediately ?\",\n",
    "            \"Any noteworthy soft skills ?\",\n",
    "            \"How can we improve this person's linkedin profile ?\",\n",
    "            \"What skills can this person learn to be successful in the next role ?\"\n",
    "            ]"
   ]
  },
  {
   "cell_type": "code",
   "execution_count": 7,
   "id": "59f43977",
   "metadata": {},
   "outputs": [],
   "source": [
    "for q in queries:\n",
    "    print(q+\"\\n\")\n",
    "    chat_session_id = h2ogpte.create_chat_session(collection_id) # This is the collection_id we uploaded\n",
    "    with h2ogpte.connect(chat_session_id) as session:\n",
    "        reply = session.query(q,timeout=10600)\n",
    "        answer = reply.content\n",
    "        print(answer+\"\\n\")\n",
    "        #print(\"\\nOriginal Ref:\\n\")\n",
    "        refs = h2ogpte.list_chat_message_references(reply.id)\n",
    "        if (refs):\n",
    "            for ref in [refs[0]]:\n",
    "                chunks = h2ogpte.get_chunks(collection_id, [ref.chunk_id])\n",
    "                \n",
    "                print(\"\\n\")\n",
    "        else:\n",
    "            print(\"No refs\\n\")"
   ]
  },
  {
   "cell_type": "markdown",
   "id": "0f34adfe",
   "metadata": {},
   "source": [
    "# 🎉 **CONGRATULATIONS!** You have completed this lab!\n",
    "---"
   ]
  },
  {
   "cell_type": "markdown",
   "id": "05d3b474",
   "metadata": {},
   "source": [
    "# 📚 **EXTENDED TASKS**\n",
    "\n",
    "We've barely scratched the surface of evaluating Large Language Models here.\n",
    "\n",
    "Explore what results you might get with various prompts and models \n",
    "available at gpt.h2o.ai or better yet your own hosted h2oGPT instance!\n",
    "\n",
    "# H2O Enterprise GPT\n",
    "\n",
    "Other notable functionality out of the box\n",
    "\n",
    "- Embed your own question and get the similarity. \n",
    "- NLP Extraction Using LLMs\n",
    "- Text Summarization API\n",
    "- Choose between Lexical and Semantic Search\n",
    "- Pass any open source h2oGPT Parameter\n",
    "- Retrieve specific text chunks - e.g. extract the title from the first chunk\n",
    "- Return the cosine similarity between two chunks\n",
    "- When searching, a user can include only certain documents (parameter name is topic id)"
   ]
  },
  {
   "cell_type": "markdown",
   "id": "6eddf62f",
   "metadata": {},
   "source": [
    "# Open Source Alternative\n",
    "\n",
    "<img src='static/h2oGPT.png' alt=\"drawing\" width=\"200\"/> \n",
    "\n",
    "H2O even provides RAG capabilities with open source h2oGPT and integrations\n",
    "with langchain, FAISS, and ChromaDB.\n",
    "\n",
    "For more check out the docs: https://github.com/h2oai/h2ogpt/blob/main/docs/README_CLIENT.md#gradio-client-api\n",
    "\n",
    "Example code snippet\n",
    "\n",
    "---\n",
    "```python \n",
    "import os\n",
    "from gradio_utils.grclient import GradioClient\n",
    "\n",
    "h2ogpt_key = os.getenv('H2OGPT_KEY') or os.getenv('H2OGPT_H2OGPT_KEY')\n",
    "\n",
    "# if you have API key for public instance:\n",
    "client = GradioClient(\"https://gpt.h2o.ai\", h2ogpt_key=h2ogpt_key)\n",
    "\n",
    "# LLM\n",
    "print(client.question(\"Who are you?\"))\n",
    "\n",
    "url = \"https://cdn.openai.com/papers/whisper.pdf\"\n",
    "\n",
    "# Q/A\n",
    "print(client.query(\"What is whisper?\", url=url))\n",
    "# summarization (map_reduce over all pages if top_k_docs=-1)\n",
    "print(client.summarize(\"What is whisper?\", url=url, top_k_docs=3))\n",
    "# extraction (map per page)\n",
    "print(client.extract(\"Give bullet for all key points\", url=url, top_k_docs=3))\n",
    "```\n"
   ]
  },
  {
   "cell_type": "markdown",
   "id": "9e1392c2",
   "metadata": {},
   "source": []
  }
 ],
 "metadata": {
  "kernelspec": {
   "display_name": "h2oworld",
   "language": "python",
   "name": "python3"
  },
  "language_info": {
   "codemirror_mode": {
    "name": "ipython",
    "version": 3
   },
   "file_extension": ".py",
   "mimetype": "text/x-python",
   "name": "python",
   "nbconvert_exporter": "python",
   "pygments_lexer": "ipython3",
   "version": "3.10.13"
  }
 },
 "nbformat": 4,
 "nbformat_minor": 5
}
